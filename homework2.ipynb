{
 "cells": [
  {
   "cell_type": "markdown",
   "id": "39cfecf9",
   "metadata": {},
   "source": [
    "i used the same virtual Python environment created earlier"
   ]
  },
  {
   "cell_type": "markdown",
   "id": "3ec6223b",
   "metadata": {},
   "source": [
    "Q1. **Install MLflow** "
   ]
  },
  {
   "cell_type": "code",
   "execution_count": null,
   "id": "b65515bd",
   "metadata": {},
   "outputs": [],
   "source": [
    "%pip install mlflow"
   ]
  },
  {
   "cell_type": "code",
   "execution_count": 2,
   "id": "c4420d2f",
   "metadata": {},
   "outputs": [
    {
     "name": "stdout",
     "output_type": "stream",
     "text": [
      "2.22.0\n"
     ]
    }
   ],
   "source": [
    "import mlflow\n",
    "print(mlflow.__version__)"
   ]
  },
  {
   "cell_type": "markdown",
   "id": "8dd27141",
   "metadata": {},
   "source": [
    "Q2. **Download and preprocess the data** - Downloaded the Yellow Taxi trip parquet files (Jan–Mar 2023)."
   ]
  },
  {
   "cell_type": "markdown",
   "id": "a71621c8",
   "metadata": {},
   "source": [
    "ran python preprocess_data.py --raw_data_path <your_data_path> --dest_path ./output"
   ]
  },
  {
   "cell_type": "markdown",
   "id": "036433e7",
   "metadata": {},
   "source": [
    "ended with 4 files in my output folder"
   ]
  },
  {
   "cell_type": "markdown",
   "id": "286f1c04",
   "metadata": {},
   "source": [
    "Q3 in train.py added the following: import mlflow\n",
    "import mlflow.sklearn\n",
    "\n",
    "mlflow.sklearn.autolog()\n",
    "\n",
    "with mlflow.start_run():\n",
    "    # code"
   ]
  },
  {
   "cell_type": "markdown",
   "id": "731b941f",
   "metadata": {},
   "source": [
    "ran the script and called the mlflow interface with mlflow ui"
   ]
  },
  {
   "cell_type": "markdown",
   "id": "94971ca6",
   "metadata": {},
   "source": []
  },
  {
   "cell_type": "markdown",
   "id": "08b02571",
   "metadata": {},
   "source": [
    "Q4 started mlflowui with the below mlflow server \\\n",
    "  --backend-store-uri sqlite:///mlflow.db \\\n",
    "  --default-artifact-root ./artifacts \\\n",
    "  --host 0.0.0.0 \\\n",
    "  --port 5000"
   ]
  },
  {
   "cell_type": "markdown",
   "id": "5c727651",
   "metadata": {},
   "source": [
    "Q5. added the code below with mlflow.start_run():\n",
    "    mlflow.log_params(params)\n",
    "    mlflow.log_metric(\"rmse\", rmse)"
   ]
  },
  {
   "cell_type": "markdown",
   "id": "06df2c69",
   "metadata": {},
   "source": [
    "\n",
    "Q6.Hre we found the best model from mlflow.tracking import MlflowClient\n",
    "client = MlflowClient()\n",
    "client.register_model(model_uri, \"your-model-name\")"
   ]
  }
 ],
 "metadata": {
  "kernelspec": {
   "display_name": "mlopsenv",
   "language": "python",
   "name": "python3"
  },
  "language_info": {
   "codemirror_mode": {
    "name": "ipython",
    "version": 3
   },
   "file_extension": ".py",
   "mimetype": "text/x-python",
   "name": "python",
   "nbconvert_exporter": "python",
   "pygments_lexer": "ipython3",
   "version": "3.12.2"
  }
 },
 "nbformat": 4,
 "nbformat_minor": 5
}
